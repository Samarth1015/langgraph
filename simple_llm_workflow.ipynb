{
 "cells": [
  {
   "cell_type": "code",
   "execution_count": 26,
   "id": "a0354f04",
   "metadata": {},
   "outputs": [
    {
     "data": {
      "text/plain": [
       "True"
      ]
     },
     "execution_count": 26,
     "metadata": {},
     "output_type": "execute_result"
    }
   ],
   "source": [
    "from langgraph.graph import StateGraph, START, END\n",
    "from langchain_google_genai import ChatGoogleGenerativeAI\n",
    "from pydantic import BaseModel\n",
    "from dotenv import load_dotenv\n",
    "from typing import Optional\n",
    "load_dotenv()\n"
   ]
  },
  {
   "cell_type": "code",
   "execution_count": 27,
   "id": "64ce6587",
   "metadata": {},
   "outputs": [],
   "source": [
    "\n",
    "#model define \n",
    "model = ChatGoogleGenerativeAI(model=\"gemini-2.5-flash\")"
   ]
  },
  {
   "cell_type": "code",
   "execution_count": 28,
   "id": "5d85c5fc",
   "metadata": {},
   "outputs": [],
   "source": [
    "#niitialise state \n",
    "class LLMState(BaseModel):\n",
    "    query:str\n",
    "    llm_res:Optional[str]= None\n",
    "    \n",
    "def llm_q(state:LLMState)->(LLMState):\n",
    "    query= state.query\n",
    "    \n",
    "    prompt = f\"Answer the following question {query}\"\n",
    "    \n",
    "    answer =model.invoke(prompt).content\n",
    "    \n",
    "    state.llm_res= answer\n",
    "    return state\n",
    "    \n",
    "    "
   ]
  },
  {
   "cell_type": "code",
   "execution_count": 29,
   "id": "f5bfd8d1",
   "metadata": {},
   "outputs": [
    {
     "name": "stdout",
     "output_type": "stream",
     "text": [
      "{'query': 'hi , what is llm', 'llm_res': 'Hello!\\n\\nAn **LLM** stands for **Large Language Model**.\\n\\nIn simple terms, an LLM is a type of artificial intelligence (AI) program that is designed to understand, generate, and process human language.\\n\\nHere\\'s a breakdown of what that means:\\n\\n1.  **Large:** These models are \"large\" because they have an enormous number of parameters (billions, even trillions) and are trained on vast amounts of text data – typically a significant portion of the internet (books, articles, websites, code, etc.). This massive scale is what allows them to learn complex patterns in language.\\n\\n2.  **Language:** Their primary function revolves around human language. They are trained to predict the next word in a sentence, fill in missing words, and understand the context and meaning of text.\\n\\n3.  **Model:** It\\'s a sophisticated computer algorithm, specifically a type of neural network (often based on the \"transformer\" architecture), that learns from the data it\\'s fed. Once trained, it can take an input (a \"prompt\") and generate a coherent and relevant output.\\n\\n**What LLMs can do:**\\n\\n*   **Generate text:** Write essays, poems, emails, code, stories, etc.\\n*   **Answer questions:** Provide information based on its training data.\\n*   **Summarize information:** Condense long texts into shorter versions.\\n*   **Translate languages:** Convert text from one language to another.\\n*   **Engage in conversation:** Power chatbots and virtual assistants.\\n*   **Brainstorm ideas:** Help users think creatively.\\n\\n**Key characteristics:**\\n\\n*   **Generative:** They don\\'t just retrieve information; they *create* new text based on the patterns they\\'ve learned.\\n*   **Probabilistic:** They work by calculating the probability of the next word in a sequence, making choices that result in the most coherent and contextually appropriate output.\\n*   **Contextual understanding:** They can maintain context over a conversation or a longer piece of text, making their responses more relevant.\\n\\nPopular examples of LLMs include the models behind ChatGPT (like GPT-3.5 and GPT-4), Google\\'s Gemini, Anthropic\\'s Claude, and Meta\\'s Llama.'}\n"
     ]
    }
   ],
   "source": [
    "#make graph \n",
    "graph = StateGraph(LLMState)\n",
    "\n",
    "#add node \n",
    "graph.add_node(\"llm_node\",llm_q)\n",
    "\n",
    "#add edge \n",
    "graph.add_edge(START,\"llm_node\")\n",
    "graph.add_edge(\"llm_node\",END)\n",
    "\n",
    "#compile \n",
    "workflow = graph.compile()\n",
    "\n",
    "initial_state = {\"query\":\"hi , what is llm\"}\n",
    "\n",
    "out_state=workflow.invoke(initial_state)\n",
    "\n",
    "print(out_state)"
   ]
  }
 ],
 "metadata": {
  "kernelspec": {
   "display_name": "venv",
   "language": "python",
   "name": "python3"
  },
  "language_info": {
   "codemirror_mode": {
    "name": "ipython",
    "version": 3
   },
   "file_extension": ".py",
   "mimetype": "text/x-python",
   "name": "python",
   "nbconvert_exporter": "python",
   "pygments_lexer": "ipython3",
   "version": "3.13.6"
  }
 },
 "nbformat": 4,
 "nbformat_minor": 5
}
