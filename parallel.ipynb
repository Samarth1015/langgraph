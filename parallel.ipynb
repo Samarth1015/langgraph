{
 "cells": [
  {
   "cell_type": "code",
   "execution_count": 6,
   "id": "7611248b",
   "metadata": {},
   "outputs": [],
   "source": [
    "from langgraph.graph import StateGraph,START,END\n",
    "from pydantic import BaseModel\n",
    "from typing import Optional\n"
   ]
  },
  {
   "cell_type": "code",
   "execution_count": null,
   "id": "9bc327b9",
   "metadata": {},
   "outputs": [],
   "source": []
  },
  {
   "cell_type": "code",
   "execution_count": 17,
   "id": "458ee543",
   "metadata": {},
   "outputs": [],
   "source": [
    "class BatsmanState(BaseModel):\n",
    "    runs:int\n",
    "    balls:int\n",
    "    fours:int\n",
    "    sixes:int\n",
    "    sr:Optional[float]=None\n",
    "    bp:Optional[float]=None\n",
    "    bpb:Optional[float]=None\n",
    "\n",
    "graph= StateGraph(BatsmanState)\n"
   ]
  },
  {
   "cell_type": "code",
   "execution_count": 18,
   "id": "41ff8677",
   "metadata": {},
   "outputs": [],
   "source": [
    "def calc_bp(state:BatsmanState)->(BatsmanState):\n",
    "    print(\"----calc bp--- \")\n",
    "    bp:float= (state.fours*4+state.sixes*6)/state.balls*100\n",
    "    \n",
    "    return {\"bp\":bp}\n",
    "    \n",
    "    \n",
    "    \n",
    "\n",
    "def calc_sr(state:BatsmanState)->(BatsmanState):\n",
    "    sr:float= state.runs/state.balls *100\n",
    "    state.sr=sr \n",
    "    return {'sr':sr} \n",
    "\n",
    "def calc_bpb(state:BatsmanState)->(BatsmanState):\n",
    "    print(\"----calc bpb--- \")\n",
    "    bpb:float= state.balls/(state.fours+state.sixes)\n",
    "    # state.bpb=bpb\n",
    "    return {\"bpb\":bpb}\n",
    "    \n",
    "    \n",
    "\n",
    "\n",
    "graph.add_node('calc_bp',calc_bp)\n",
    "graph.add_node('calc_sr',calc_sr)\n",
    "graph.add_node(\"calc_bpb\",calc_bpb)\n",
    "\n",
    "graph.add_edge(START,\"calc_bp\")\n",
    "graph.add_edge(START,\"calc_sr\")\n",
    "graph.add_edge(START,\"calc_bpb\")\n",
    "graph.add_edge(\"calc_bp\",END)\n",
    "graph.add_edge(\"calc_sr\",END)\n",
    "graph.add_edge(\"calc_bpb\",END)\n",
    "\n",
    "workflow= graph.compile()\n",
    "\n",
    "\n"
   ]
  },
  {
   "cell_type": "code",
   "execution_count": 19,
   "id": "8a64df59",
   "metadata": {},
   "outputs": [
    {
     "name": "stdout",
     "output_type": "stream",
     "text": [
      "----calc bp--- \n",
      "----calc bpb--- \n"
     ]
    },
    {
     "data": {
      "text/plain": [
       "{'runs': 100,\n",
       " 'balls': 50,\n",
       " 'fours': 6,\n",
       " 'sixes': 5,\n",
       " 'sr': 200.0,\n",
       " 'bp': 108.0,\n",
       " 'bpb': 4.545454545454546}"
      ]
     },
     "execution_count": 19,
     "metadata": {},
     "output_type": "execute_result"
    }
   ],
   "source": [
    "initial_state= {\"runs\":100 , \"balls\":50 ,\"fours\":6, \"sixes\":5 }\n",
    "\n",
    "workflow.invoke(initial_state)"
   ]
  }
 ],
 "metadata": {
  "kernelspec": {
   "display_name": "venv",
   "language": "python",
   "name": "python3"
  },
  "language_info": {
   "codemirror_mode": {
    "name": "ipython",
    "version": 3
   },
   "file_extension": ".py",
   "mimetype": "text/x-python",
   "name": "python",
   "nbconvert_exporter": "python",
   "pygments_lexer": "ipython3",
   "version": "3.13.6"
  }
 },
 "nbformat": 4,
 "nbformat_minor": 5
}
