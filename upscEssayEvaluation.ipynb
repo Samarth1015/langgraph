{
 "cells": [
  {
   "cell_type": "code",
   "execution_count": 28,
   "id": "c4f2fd79",
   "metadata": {},
   "outputs": [],
   "source": [
    "from langgraph.graph import StateGraph, START, END\n",
    "from langchain_google_genai import ChatGoogleGenerativeAI\n",
    "from pydantic import BaseModel, Field\n",
    "from dotenv import load_dotenv\n",
    "from typing import Optional,Annotated,operator\n",
    "\n"
   ]
  },
  {
   "cell_type": "code",
   "execution_count": 29,
   "id": "0f61f8d2",
   "metadata": {},
   "outputs": [],
   "source": [
    "load_dotenv()\n",
    "model= ChatGoogleGenerativeAI(model=\"gemini-2.5-flash\")\n",
    "\n"
   ]
  },
  {
   "cell_type": "code",
   "execution_count": 30,
   "id": "675af896",
   "metadata": {},
   "outputs": [],
   "source": [
    "class struct_output_state(BaseModel):\n",
    "    summary:str= Field(description=\"write the summary how its written on the basis of given context \")\n",
    "    score:float = Field(le=10,ge=0,description=\"give the score of summary out of 10 it can be in float \")\n",
    "    "
   ]
  },
  {
   "cell_type": "code",
   "execution_count": 31,
   "id": "bac56e8d",
   "metadata": {},
   "outputs": [],
   "source": [
    "class upscState(BaseModel):\n",
    "    essay:str\n",
    "    cot_summary :Optional[str]=None \n",
    "    language_summary:Optional[str]=None \n",
    "    scores: Annotated[Optional[list[float]],operator.add]=None"
   ]
  },
  {
   "cell_type": "code",
   "execution_count": 32,
   "id": "79c82d4f",
   "metadata": {},
   "outputs": [],
   "source": [
    "struct_model= model.with_structured_output(struct_output_state)\n",
    "\n"
   ]
  },
  {
   "cell_type": "code",
   "execution_count": 33,
   "id": "27b5f33c",
   "metadata": {},
   "outputs": [],
   "source": [
    "def thought_clarity_node(state:upscState)->upscState:\n",
    "    prompt= f\"\"\" you are an agent which give the rating to the {state.essay} and you have to rate it out of 10 on the clarity of thought  \"\"\"\n",
    "    res:struct_output_state=struct_model.invoke(prompt)\n",
    "    return {\"cot_summary\":res.summary,\"scores\":[res.score]}\n",
    "    "
   ]
  },
  {
   "cell_type": "code",
   "execution_count": 34,
   "id": "c958717c",
   "metadata": {},
   "outputs": [],
   "source": [
    "def language_node(state:upscState)->upscState:\n",
    "    prompt= f\"\"\" you are an agent which give the rating to the {state.essay} and you have to rate it out of 10 on the language  \"\"\"\n",
    "    res:struct_output_state=struct_model.invoke(prompt)\n",
    "    return {\"language_summary\":res.summary,\"scores\":[res.score]}\n",
    "    "
   ]
  },
  {
   "cell_type": "code",
   "execution_count": null,
   "id": "4e419dff",
   "metadata": {},
   "outputs": [],
   "source": []
  },
  {
   "cell_type": "code",
   "execution_count": 35,
   "id": "5562f6e5",
   "metadata": {},
   "outputs": [
    {
     "data": {
      "image/png": "[encoded data removed]",
      "text/plain": [
       "<langgraph.graph.state.CompiledStateGraph object at 0x00000170DE2E6D50>"
      ]
     },
     "execution_count": 35,
     "metadata": {},
     "output_type": "execute_result"
    }
   ],
   "source": [
    "\n",
    "graph = StateGraph(upscState)\n",
    "\n",
    "graph.add_node(\"clear_of_thought\",thought_clarity_node)\n",
    "graph.add_node(\"language\",language_node)\n",
    "\n",
    "graph.add_edge(START,\"clear_of_thought\")\n",
    "graph.add_edge(START,\"language\")\n",
    "graph.add_edge(\"clear_of_thought\",END)\n",
    "graph.add_edge(\"language\",END)\n",
    "\n",
    "workflow = graph.compile()\n",
    "workflow\n",
    "\n",
    "\n"
   ]
  },
  {
   "cell_type": "code",
   "execution_count": 37,
   "id": "0db59044",
   "metadata": {},
   "outputs": [
    {
     "name": "stdout",
     "output_type": "stream",
     "text": [
      "{'essay': 'India is a big country and so many people living here. It have many states and languages also food is different everywhere. People doing festivals every time like Diwali, Holi, etc. It got freedom in 1947 from British. Now India is developing and people doing good jobs and all.', 'cot_summary': 'The provided text describes India as a large and populous country with diverse states, languages, and food. It highlights the frequent celebration of festivals like Diwali and Holi, its independence from British rule in 1947, and its ongoing development with people engaged in good jobs.', 'language_summary': 'The provided text describes India as a large and populous country with diverse states, languages, and food. It mentions frequent festivals, its independence in 1947, and its ongoing development.', 'scores': [6.5, 6.0]}\n"
     ]
    }
   ],
   "source": [
    "initial_state= {\n",
    "    \"essay\":\"India is a big country and so many people living here. It have many states and languages also food is different everywhere. People doing festivals every time like Diwali, Holi, etc. It got freedom in 1947 from British. Now India is developing and people doing good jobs and all.\"\n",
    "    \n",
    "}\n",
    "\n",
    "result=workflow.invoke(initial_state)\n",
    "print(result)"
   ]
  }
 ],
 "metadata": {
  "kernelspec": {
   "display_name": "venv",
   "language": "python",
   "name": "python3"
  },
  "language_info": {
   "codemirror_mode": {
    "name": "ipython",
    "version": 3
   },
   "file_extension": ".py",
   "mimetype": "text/x-python",
   "name": "python",
   "nbconvert_exporter": "python",
   "pygments_lexer": "ipython3",
   "version": "3.13.6"
  }
 },
 "nbformat": 4,
 "nbformat_minor": 5
}
