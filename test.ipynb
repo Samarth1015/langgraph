{
 "cells": [
  {
   "cell_type": "code",
   "execution_count": 86,
   "id": "853f445a",
   "metadata": {},
   "outputs": [],
   "source": [
    "from langgraph.graph import StateGraph ,START,END\n",
    "from pydantic import BaseModel\n",
    "from typing import Optional\n"
   ]
  },
  {
   "cell_type": "code",
   "execution_count": 87,
   "id": "116770ee",
   "metadata": {},
   "outputs": [],
   "source": [
    "#defining state\n",
    "\n",
    "class BMI_state(BaseModel):\n",
    "        \n",
    "        \n",
    "    weight:float\n",
    "    height:float\n",
    "    bmi:Optional[float]= None\n",
    "    category:Optional[str]=None\n",
    "    \n",
    "\n",
    "def calc_bmi(state : BMI_state)->(BMI_state):\n",
    "    weight = state.weight\n",
    "    height = state.height\n",
    "    bmi= weight/height**2\n",
    "    \n",
    "    return BMI_state(weight=weight, height=height, bmi=bmi) \n",
    "\n",
    "def review_customer(state : BMI_state)->(BMI_state):\n",
    "    if 18.5>state.bmi:\n",
    "        state.category=\"overweight\"\n",
    "    else:\n",
    "        state.category=\"underweight\"\n",
    "    \n",
    "    return state\n",
    "    "
   ]
  },
  {
   "cell_type": "code",
   "execution_count": 88,
   "id": "260e755a",
   "metadata": {},
   "outputs": [
    {
     "data": {
      "text/plain": [
       "<langgraph.graph.state.StateGraph at 0x184d8b92750>"
      ]
     },
     "execution_count": 88,
     "metadata": {},
     "output_type": "execute_result"
    }
   ],
   "source": [
    "#defining graph \n",
    "graph= StateGraph(BMI_state)\n",
    "\n",
    "#add nodes to your graph \n",
    "graph.add_node(\"calc_bmi\",calc_bmi)\n",
    "graph.add_node(\"category\",review_customer)\n",
    "\n",
    "#add edges to your graph\n",
    "\n",
    "graph.add_edge(START,\"calc_bmi\")\n",
    "graph.add_edge(\"calc_bmi\",\"category\")\n",
    "graph.add_edge(\"category\",END)\n",
    "\n",
    "\n",
    "\n",
    "\n",
    "\n"
   ]
  },
  {
   "cell_type": "code",
   "execution_count": 89,
   "id": "296e70d8",
   "metadata": {},
   "outputs": [],
   "source": [
    "#compile  \n",
    "workflow = graph.compile()\n",
    "\n",
    "\n"
   ]
  },
  {
   "cell_type": "code",
   "execution_count": 90,
   "id": "d451ac37",
   "metadata": {},
   "outputs": [
    {
     "name": "stdout",
     "output_type": "stream",
     "text": [
      "{'weight': 80.0, 'height': 1.7, 'bmi': 27.68166089965398, 'category': 'underweight'}\n"
     ]
    }
   ],
   "source": [
    "#invoke\n",
    "initial_state = {\"weight\": 80.0, \"height\": 1.7} \n",
    "out_state = workflow.invoke(initial_state)\n",
    "print(out_state) "
   ]
  },
  {
   "cell_type": "markdown",
   "id": "c2c67feb",
   "metadata": {},
   "source": []
  },
  {
   "cell_type": "code",
   "execution_count": null,
   "id": "744fa7b8",
   "metadata": {},
   "outputs": [],
   "source": []
  }
 ],
 "metadata": {
  "kernelspec": {
   "display_name": "venv",
   "language": "python",
   "name": "python3"
  },
  "language_info": {
   "codemirror_mode": {
    "name": "ipython",
    "version": 3
   },
   "file_extension": ".py",
   "mimetype": "text/x-python",
   "name": "python",
   "nbconvert_exporter": "python",
   "pygments_lexer": "ipython3",
   "version": "3.13.6"
  }
 },
 "nbformat": 4,
 "nbformat_minor": 5
}
